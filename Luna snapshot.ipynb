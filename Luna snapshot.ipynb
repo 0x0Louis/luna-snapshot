{
 "cells": [
  {
   "cell_type": "markdown",
   "id": "84aa53ad",
   "metadata": {},
   "source": [
    "# Snapshot LUNA"
   ]
  },
  {
   "cell_type": "code",
   "execution_count": 9,
   "id": "afe410ea",
   "metadata": {},
   "outputs": [],
   "source": [
    "import json\n",
    "from collections import defaultdict\n",
    "from pathlib import Path\n",
    "from time import time\n",
    "\n",
    "import numpy as np\n",
    "from utils.rpc import w3\n",
    "from utils.constants import *"
   ]
  },
  {
   "cell_type": "code",
   "execution_count": 10,
   "id": "14990d64",
   "metadata": {},
   "outputs": [],
   "source": [
    "def zero():\n",
    "    return 0\n",
    "\n",
    "\n",
    "def save(file, dic):\n",
    "    with open(file, \"w\") as f:\n",
    "        json.dump(dic, f)\n",
    "\n",
    "def getTokenBalance(tokenName):\n",
    "    tokenAddress = w3.toChecksumAddress(tokens[tokenName])\n",
    "    token = w3.eth.contract(address=tokenAddress, abi=ERC20_ABI)\n",
    "\n",
    "    bal_pre = {}\n",
    "    bal_post = {}\n",
    "\n",
    "    for pairAddress in pairs.values():\n",
    "        bal_pre[pairAddress] = token.functions.balanceOf(w3.toChecksumAddress(pairAddress)).call({}, PRE_ATTACK_BLOCK)\n",
    "        bal_post[pairAddress] = token.functions.balanceOf(w3.toChecksumAddress(pairAddress)).call({}, POST_ATTACK_BLOCK)\n",
    "\n",
    "    return bal_pre, bal_post"
   ]
  },
  {
   "cell_type": "code",
   "execution_count": 3,
   "id": "81cab1de",
   "metadata": {},
   "outputs": [
    {
     "name": "stdout",
     "output_type": "stream",
     "text": [
      "Done in 23.07s\n"
     ]
    }
   ],
   "source": [
    "tokens_balances_pre_attack = {}\n",
    "tokens_balances_post_attack = {}\n",
    "t0 = time()\n",
    "for name in tokens.keys():\n",
    "    tokens_balances_pre_attack[name], tokens_balances_post_attack[name] = getTokenBalance(name)\n",
    "print(\"Done in {}s\".format(round(time() - t0, 2)))"
   ]
  },
  {
   "cell_type": "code",
   "execution_count": 11,
   "id": "2fbff57f",
   "metadata": {},
   "outputs": [],
   "source": [
    "def getPairBalance(name):\n",
    "    with open(\"json/pairs/{}.json\".format(name), \"r\") as f:\n",
    "        txs = json.load(f)\n",
    "    bal_pre = defaultdict(zero)\n",
    "    bal_post = defaultdict(zero)\n",
    "    \n",
    "    for tx in txs:\n",
    "        # ignore the LP sent to MCJV3\n",
    "        if tx[\"from\"] == MCJV3_ADDRESS or tx[\"to\"] == MCJV3_ADDRESS:\n",
    "            continue\n",
    "    \n",
    "        if tx[\"block\"] <= PRE_ATTACK_BLOCK:\n",
    "            bal_pre[tx[\"from\"]] -= tx[\"amount\"]\n",
    "            bal_pre[tx[\"to\"]] += tx[\"amount\"]\n",
    "        if tx[\"block\"] <= POST_ATTACK_BLOCK:\n",
    "            bal_post[tx[\"from\"]] -= tx[\"amount\"]\n",
    "            bal_post[tx[\"to\"]] += tx[\"amount\"]\n",
    "\n",
    "    assert np.all(\n",
    "        np.array([amount for user, amount in bal_pre.items() if user != ADDRESS_ZERO]) >= 0\n",
    "    )\n",
    "    assert np.all(\n",
    "        np.array([amount for user, amount in bal_post.items() if user != ADDRESS_ZERO]) >= 0\n",
    "    )\n",
    "    assert sum(bal_pre.values()) == 0\n",
    "    assert sum(bal_post.values()) == 0\n",
    "    \n",
    "    return bal_pre, bal_post"
   ]
  },
  {
   "cell_type": "code",
   "execution_count": 12,
   "id": "e938fe1e",
   "metadata": {},
   "outputs": [],
   "source": [
    "pairs_balances_pre_attack = {}\n",
    "pairs_balances_post_attack = {}\n",
    "for name in pairs.keys():\n",
    "    pairs_balances_pre_attack[name], pairs_balances_post_attack[name] = getPairBalance(name)"
   ]
  },
  {
   "cell_type": "code",
   "execution_count": 13,
   "id": "49b792b6",
   "metadata": {},
   "outputs": [],
   "source": [
    "pre_attack_balance = {}\n",
    "for symbol, token_balances in tokens_balances_pre_attack.items():\n",
    "    pre_attack_balance[symbol] = defaultdict(zero)\n",
    "    sum_balance = 0\n",
    "    for name, lp_balances in pairs_balances_pre_attack.items():\n",
    "        if ADDRESS_ZERO in lp_balances:\n",
    "            pair_balance = token_balances[pairs[name]]\n",
    "            total_lp_supply = -lp_balances[ADDRESS_ZERO]\n",
    "            if pair_balance != 0:\n",
    "                sum_balance += pair_balance\n",
    "                for user, lp_balance in lp_balances.items():\n",
    "                    if user != ADDRESS_ZERO and lp_balance != 0:\n",
    "                        pre_attack_balance[symbol][user] += (\n",
    "                            lp_balance * pair_balance // total_lp_supply\n",
    "                        )\n",
    "    assert sum(pre_attack_balance[symbol].values()) <= sum_balance\n",
    "\n",
    "pre_attack_balance = {name: sorted(balances.items(), key=lambda x: x[1], reverse=True)\n",
    "                      for name, balances in pre_attack_balance.items()}\n",
    "\n",
    "post_attack_balance = {}\n",
    "for symbol, token_balances in tokens_balances_post_attack.items():\n",
    "    post_attack_balance[symbol] = defaultdict(zero)\n",
    "    sum_balance = 0\n",
    "    for name, lp_balances in pairs_balances_post_attack.items():\n",
    "        if ADDRESS_ZERO in lp_balances:\n",
    "            pair_balance = token_balances[pairs[name]]\n",
    "            total_lp_supply = -lp_balances[ADDRESS_ZERO]\n",
    "            if pair_balance != 0:\n",
    "                sum_balance += pair_balance\n",
    "                for user, lp_balance in lp_balances.items():\n",
    "                    bal = lp_balance * pair_balance // total_lp_supply\n",
    "                    if user != ADDRESS_ZERO and bal != 0:\n",
    "                        post_attack_balance[symbol][user] += (\n",
    "                            lp_balance * pair_balance // total_lp_supply\n",
    "                        )\n",
    "    assert sum(post_attack_balance[symbol].values()) <= sum_balance\n",
    "\n",
    "post_attack_balance = {name: {k:v for k,v in sorted(balances.items(), key=lambda x: x[1], reverse=True)}\n",
    "                      for name, balances in post_attack_balance.items()}"
   ]
  },
  {
   "cell_type": "code",
   "execution_count": 14,
   "id": "d6dbf2b0",
   "metadata": {},
   "outputs": [],
   "source": [
    "# Create paths if they don't exist yet\n",
    "Path(\"json/snapshot/pre-attack\").mkdir(parents=True, exist_ok=True)\n",
    "Path(\"json/snapshot/post-attack\").mkdir(parents=True, exist_ok=True)\n",
    "\n",
    "for symbol, dic in pre_attack_balance.items():\n",
    "    save(\"json/snapshot/pre-attack/{}.json\".format(symbol), dic)\n",
    "\n",
    "for symbol, dic in post_attack_balance.items():\n",
    "    save(\"json/snapshot/post-attack/{}.json\".format(symbol), dic)"
   ]
  }
 ],
 "metadata": {
  "kernelspec": {
   "display_name": "Python 3.9.13 ('.venv': venv)",
   "language": "python",
   "name": "python3"
  },
  "language_info": {
   "codemirror_mode": {
    "name": "ipython",
    "version": 3
   },
   "file_extension": ".py",
   "mimetype": "text/x-python",
   "name": "python",
   "nbconvert_exporter": "python",
   "pygments_lexer": "ipython3",
   "version": "3.9.13"
  },
  "vscode": {
   "interpreter": {
    "hash": "5d6512db5b0d0ed7f9d85f53835ade4f62f5a06af1f717f4dd618d86f5c95b6c"
   }
  }
 },
 "nbformat": 4,
 "nbformat_minor": 5
}
